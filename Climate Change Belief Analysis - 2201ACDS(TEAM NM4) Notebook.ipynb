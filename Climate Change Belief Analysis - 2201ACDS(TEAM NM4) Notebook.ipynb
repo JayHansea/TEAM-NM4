{
 "cells": [
  {
   "cell_type": "markdown",
   "id": "701e8caa",
   "metadata": {},
   "source": [
    "# <font color='firebrick'> Climate Change Belief Analysis By 2201ACDS_NM4 (TEAM NM4) <font>"
   ]
  },
  {
   "cell_type": "markdown",
   "id": "9cd0b9c8",
   "metadata": {},
   "source": [
    "## <font color='goldenrod'>Introduction <front>"
   ]
  },
  {
   "cell_type": "markdown",
   "id": "a985cb80",
   "metadata": {},
   "source": [
    "### <font color='black'> Problem Description <font>\n",
    "    \n",
    "Many companies are built around lessening one’s environmental impact or carbon footprint. They offer products and services that are environmentally friendly and sustainable, in line with their values and ideals. They would like to determine how people perceive climate change and whether or not they believe it is a real threat. This would add to their market research efforts in gauging how their product/service may be received.\n",
    "\n",
    "With this context, EDSA is challenging you during the Classification Sprint with the task of creating a Machine Learning model that is able to classify whether or not a person believes in climate change, based on their novel tweet data.\n",
    "\n",
    "Providing an accurate and robust solution to this task gives companies access to a broad base of consumer sentiment, spanning multiple demographic and geographic categories - thus increasing their insights and informing future marketing strategies.\n"
   ]
  },
  {
   "cell_type": "markdown",
   "id": "7665d9b6",
   "metadata": {},
   "source": [
    "### <font color='black'> Data Description <font>\n",
    "\n",
    "Two types of dataset are provided: training set and test set. In fact, training data is the initial dataset you use to teach a machine learning application to recognize patterns or perform to your criteria, while testing data is used to evaluate your model’s accuracy and to make prediction as well. See [Data](https://www.kaggle.com/competitions/house-prices-advanced-regression-techniques/data) for full description. "
   ]
  },
  {
   "cell_type": "markdown",
   "id": "5dac6057",
   "metadata": {},
   "source": [
    "<a id=\"cont\"></a>\n",
    "\n",
    "## Table of Contents\n",
    "\n",
    "<a href=#one>1. Importing Packages</a>\n",
    "\n",
    "<a href=#two>2. Loading Data</a>\n",
    "\n",
    "<a href=#three>3. Exploratory Data Analysis (EDA)</a>\n",
    "\n",
    "<a href=#four>4. Data Pre-processing</a>\n",
    "\n",
    "<a href=#five>5. Modeling Building</a>\n",
    "\n",
    "<a href=#six>6. Model Performance</a>\n",
    "\n",
    "<a href=#seven>7. Model Explanations</a>"
   ]
  },
  {
   "cell_type": "markdown",
   "id": "1333472b",
   "metadata": {},
   "source": [
    " <a id=\"one\"></a>\n",
    "## 1. Importing Packages\n",
    "<a href=#cont>Back to Table of Contents</a>\n",
    "\n",
    "---\n",
    "    \n",
    "| ⚡ Description: Importing Packages ⚡ |\n",
    "| :--------------------------- |\n",
    "| In this section, the team will import the necessary libraries that will be used throughout analysis and modelling. |\n",
    "\n",
    "---"
   ]
  },
  {
   "cell_type": "code",
   "execution_count": 2,
   "id": "b9eac88b",
   "metadata": {
    "id": "b9eac88b"
   },
   "outputs": [],
   "source": [
    "import re                                  \n",
    "import string\n",
    "\n",
    "import numpy as np\n",
    "import pandas as pd\n",
    "import matplotlib.pyplot as plt\n",
    "import seaborn as sns\n",
    "\n",
    "%matplotlib inline\n",
    "                          \n",
    "from nltk.corpus import stopwords \n",
    "from nltk.stem import PorterStemmer, WordNetLemmatizer\n",
    "from nltk.tokenize import TweetTokenizer, TreebankWordTokenizer\n",
    "\n",
    "from sklearn.metrics import accuracy_score, classification_report, f1_score\n",
    "from sklearn.metrics import confusion_matrix\n",
    "from sklearn.feature_extraction.text import CountVectorizer, TfidfVectorizer\n",
    "from sklearn.preprocessing import MaxAbsScaler\n",
    "from sklearn.linear_model import LogisticRegression\n",
    "from sklearn.svm import SVC\n",
    "from sklearn.model_selection import train_test_split\n",
    "from sklearn.model_selection import GridSearchCV"
   ]
  },
  {
   "cell_type": "markdown",
   "id": "9993692c",
   "metadata": {},
   "source": [
    "<a id=\"two\"></a>\n",
    "## 2. Loading the Data\n",
    "<a class=\"anchor\" id=\"1.1\"></a>\n",
    "<a href=#cont>Back to Table of Contents</a>\n",
    "\n",
    "---\n",
    "    \n",
    "| ⚡ Description: Loading the data ⚡ |\n",
    "| :--------------------------- |\n",
    "| In this section, the team will load train and test data into a DataFrame. |\n",
    "\n",
    "---"
   ]
  },
  {
   "cell_type": "code",
   "execution_count": 6,
   "id": "4b1a654e",
   "metadata": {
    "colab": {
     "base_uri": "https://localhost:8080/",
     "height": 237
    },
    "id": "4b1a654e",
    "outputId": "1711f125-d9fd-45b1-f602-f6a39e179bfb"
   },
   "outputs": [
    {
     "data": {
      "text/html": [
       "<div>\n",
       "<style scoped>\n",
       "    .dataframe tbody tr th:only-of-type {\n",
       "        vertical-align: middle;\n",
       "    }\n",
       "\n",
       "    .dataframe tbody tr th {\n",
       "        vertical-align: top;\n",
       "    }\n",
       "\n",
       "    .dataframe thead th {\n",
       "        text-align: right;\n",
       "    }\n",
       "</style>\n",
       "<table border=\"1\" class=\"dataframe\">\n",
       "  <thead>\n",
       "    <tr style=\"text-align: right;\">\n",
       "      <th></th>\n",
       "      <th>sentiment</th>\n",
       "      <th>message</th>\n",
       "    </tr>\n",
       "    <tr>\n",
       "      <th>tweetid</th>\n",
       "      <th></th>\n",
       "      <th></th>\n",
       "    </tr>\n",
       "  </thead>\n",
       "  <tbody>\n",
       "    <tr>\n",
       "      <th>625221</th>\n",
       "      <td>1</td>\n",
       "      <td>PolySciMajor EPA chief doesn't think carbon di...</td>\n",
       "    </tr>\n",
       "    <tr>\n",
       "      <th>126103</th>\n",
       "      <td>1</td>\n",
       "      <td>It's not like we lack evidence of anthropogeni...</td>\n",
       "    </tr>\n",
       "    <tr>\n",
       "      <th>698562</th>\n",
       "      <td>2</td>\n",
       "      <td>RT @RawStory: Researchers say we have three ye...</td>\n",
       "    </tr>\n",
       "    <tr>\n",
       "      <th>573736</th>\n",
       "      <td>1</td>\n",
       "      <td>#TodayinMaker# WIRED : 2016 was a pivotal year...</td>\n",
       "    </tr>\n",
       "    <tr>\n",
       "      <th>466954</th>\n",
       "      <td>1</td>\n",
       "      <td>RT @SoyNovioDeTodas: It's 2016, and a racist, ...</td>\n",
       "    </tr>\n",
       "  </tbody>\n",
       "</table>\n",
       "</div>"
      ],
      "text/plain": [
       "         sentiment                                            message\n",
       "tweetid                                                              \n",
       "625221           1  PolySciMajor EPA chief doesn't think carbon di...\n",
       "126103           1  It's not like we lack evidence of anthropogeni...\n",
       "698562           2  RT @RawStory: Researchers say we have three ye...\n",
       "573736           1  #TodayinMaker# WIRED : 2016 was a pivotal year...\n",
       "466954           1  RT @SoyNovioDeTodas: It's 2016, and a racist, ..."
      ]
     },
     "execution_count": 6,
     "metadata": {},
     "output_type": "execute_result"
    }
   ],
   "source": [
    "df = pd.read_csv('train.csv', index_col='tweetid')\n",
    "df.head()"
   ]
  },
  {
   "cell_type": "code",
   "execution_count": 7,
   "id": "c9f76ba6",
   "metadata": {
    "colab": {
     "base_uri": "https://localhost:8080/",
     "height": 455
    },
    "id": "c9f76ba6",
    "outputId": "0401d812-52da-4c2e-9d1b-e9cbd6dee93f"
   },
   "outputs": [
    {
     "data": {
      "text/html": [
       "<div>\n",
       "<style scoped>\n",
       "    .dataframe tbody tr th:only-of-type {\n",
       "        vertical-align: middle;\n",
       "    }\n",
       "\n",
       "    .dataframe tbody tr th {\n",
       "        vertical-align: top;\n",
       "    }\n",
       "\n",
       "    .dataframe thead th {\n",
       "        text-align: right;\n",
       "    }\n",
       "</style>\n",
       "<table border=\"1\" class=\"dataframe\">\n",
       "  <thead>\n",
       "    <tr style=\"text-align: right;\">\n",
       "      <th></th>\n",
       "      <th>message</th>\n",
       "    </tr>\n",
       "    <tr>\n",
       "      <th>tweetid</th>\n",
       "      <th></th>\n",
       "    </tr>\n",
       "  </thead>\n",
       "  <tbody>\n",
       "    <tr>\n",
       "      <th>169760</th>\n",
       "      <td>Europe will now be looking to China to make su...</td>\n",
       "    </tr>\n",
       "    <tr>\n",
       "      <th>35326</th>\n",
       "      <td>Combine this with the polling of staffers re c...</td>\n",
       "    </tr>\n",
       "    <tr>\n",
       "      <th>224985</th>\n",
       "      <td>The scary, unimpeachable evidence that climate...</td>\n",
       "    </tr>\n",
       "    <tr>\n",
       "      <th>476263</th>\n",
       "      <td>@Karoli @morgfair @OsborneInk @dailykos \\nPuti...</td>\n",
       "    </tr>\n",
       "    <tr>\n",
       "      <th>872928</th>\n",
       "      <td>RT @FakeWillMoore: 'Female orgasms cause globa...</td>\n",
       "    </tr>\n",
       "    <tr>\n",
       "      <th>...</th>\n",
       "      <td>...</td>\n",
       "    </tr>\n",
       "    <tr>\n",
       "      <th>895714</th>\n",
       "      <td>RT @BrittanyBohrer: Brb, writing a poem about ...</td>\n",
       "    </tr>\n",
       "    <tr>\n",
       "      <th>875167</th>\n",
       "      <td>2016: the year climate change came home: Durin...</td>\n",
       "    </tr>\n",
       "    <tr>\n",
       "      <th>78329</th>\n",
       "      <td>RT @loop_vanuatu: Pacific countries positive a...</td>\n",
       "    </tr>\n",
       "    <tr>\n",
       "      <th>867455</th>\n",
       "      <td>RT @xanria_00018: You’re so hot, you must be t...</td>\n",
       "    </tr>\n",
       "    <tr>\n",
       "      <th>470892</th>\n",
       "      <td>RT @chloebalaoing: climate change is a global ...</td>\n",
       "    </tr>\n",
       "  </tbody>\n",
       "</table>\n",
       "<p>10546 rows × 1 columns</p>\n",
       "</div>"
      ],
      "text/plain": [
       "                                                   message\n",
       "tweetid                                                   \n",
       "169760   Europe will now be looking to China to make su...\n",
       "35326    Combine this with the polling of staffers re c...\n",
       "224985   The scary, unimpeachable evidence that climate...\n",
       "476263   @Karoli @morgfair @OsborneInk @dailykos \\nPuti...\n",
       "872928   RT @FakeWillMoore: 'Female orgasms cause globa...\n",
       "...                                                    ...\n",
       "895714   RT @BrittanyBohrer: Brb, writing a poem about ...\n",
       "875167   2016: the year climate change came home: Durin...\n",
       "78329    RT @loop_vanuatu: Pacific countries positive a...\n",
       "867455   RT @xanria_00018: You’re so hot, you must be t...\n",
       "470892   RT @chloebalaoing: climate change is a global ...\n",
       "\n",
       "[10546 rows x 1 columns]"
      ]
     },
     "execution_count": 7,
     "metadata": {},
     "output_type": "execute_result"
    }
   ],
   "source": [
    "test_df = pd.read_csv('test_with_no_labels.csv', index_col='tweetid')\n",
    "test_df"
   ]
  },
  {
   "cell_type": "code",
   "execution_count": null,
   "id": "92d91734",
   "metadata": {},
   "outputs": [],
   "source": []
  },
  {
   "cell_type": "code",
   "execution_count": null,
   "id": "c8f786d5",
   "metadata": {},
   "outputs": [],
   "source": []
  },
  {
   "cell_type": "markdown",
   "id": "5a749289",
   "metadata": {
    "id": "5a749289"
   },
   "source": [
    "<a id=\"three\"></a>\n",
    "## 3. Exploratory Data Analysis (EDA)\n",
    "<a class=\"anchor\" id=\"1.1\"></a>\n",
    "<a href=#cont>Back to Table of Contents</a>\n",
    "\n",
    "---\n",
    "    \n",
    "| ⚡ Description:  ⚡ |\n",
    "| :--------------------------- |\n",
    "| In this section, the team will clean the dataset and perform and indepth analysis of all the variables in the DataFrame. |\n",
    "\n",
    "---\n"
   ]
  },
  {
   "cell_type": "code",
   "execution_count": 8,
   "id": "25c08769",
   "metadata": {
    "colab": {
     "base_uri": "https://localhost:8080/"
    },
    "id": "25c08769",
    "outputId": "a6c02f1a-a090-414f-cde6-640988a073b3",
    "scrolled": true
   },
   "outputs": [
    {
     "name": "stdout",
     "output_type": "stream",
     "text": [
      "<class 'pandas.core.frame.DataFrame'>\n",
      "Int64Index: 15819 entries, 625221 to 806319\n",
      "Data columns (total 2 columns):\n",
      " #   Column     Non-Null Count  Dtype \n",
      "---  ------     --------------  ----- \n",
      " 0   sentiment  15819 non-null  int64 \n",
      " 1   message    15819 non-null  object\n",
      "dtypes: int64(1), object(1)\n",
      "memory usage: 370.8+ KB\n"
     ]
    }
   ],
   "source": [
    "#view the info of the df\n",
    "df.info()"
   ]
  },
  {
   "cell_type": "code",
   "execution_count": 9,
   "id": "b3782e28",
   "metadata": {
    "colab": {
     "base_uri": "https://localhost:8080/",
     "height": 300
    },
    "id": "b3782e28",
    "outputId": "c3cd7f32-5046-4bf0-dea5-7c1079607637"
   },
   "outputs": [
    {
     "data": {
      "text/html": [
       "<div>\n",
       "<style scoped>\n",
       "    .dataframe tbody tr th:only-of-type {\n",
       "        vertical-align: middle;\n",
       "    }\n",
       "\n",
       "    .dataframe tbody tr th {\n",
       "        vertical-align: top;\n",
       "    }\n",
       "\n",
       "    .dataframe thead th {\n",
       "        text-align: right;\n",
       "    }\n",
       "</style>\n",
       "<table border=\"1\" class=\"dataframe\">\n",
       "  <thead>\n",
       "    <tr style=\"text-align: right;\">\n",
       "      <th></th>\n",
       "      <th>sentiment</th>\n",
       "    </tr>\n",
       "  </thead>\n",
       "  <tbody>\n",
       "    <tr>\n",
       "      <th>count</th>\n",
       "      <td>15819.000000</td>\n",
       "    </tr>\n",
       "    <tr>\n",
       "      <th>mean</th>\n",
       "      <td>0.917504</td>\n",
       "    </tr>\n",
       "    <tr>\n",
       "      <th>std</th>\n",
       "      <td>0.836537</td>\n",
       "    </tr>\n",
       "    <tr>\n",
       "      <th>min</th>\n",
       "      <td>-1.000000</td>\n",
       "    </tr>\n",
       "    <tr>\n",
       "      <th>25%</th>\n",
       "      <td>1.000000</td>\n",
       "    </tr>\n",
       "    <tr>\n",
       "      <th>50%</th>\n",
       "      <td>1.000000</td>\n",
       "    </tr>\n",
       "    <tr>\n",
       "      <th>75%</th>\n",
       "      <td>1.000000</td>\n",
       "    </tr>\n",
       "    <tr>\n",
       "      <th>max</th>\n",
       "      <td>2.000000</td>\n",
       "    </tr>\n",
       "  </tbody>\n",
       "</table>\n",
       "</div>"
      ],
      "text/plain": [
       "          sentiment\n",
       "count  15819.000000\n",
       "mean       0.917504\n",
       "std        0.836537\n",
       "min       -1.000000\n",
       "25%        1.000000\n",
       "50%        1.000000\n",
       "75%        1.000000\n",
       "max        2.000000"
      ]
     },
     "execution_count": 9,
     "metadata": {},
     "output_type": "execute_result"
    }
   ],
   "source": [
    "#view the data summary\n",
    "df.describe()"
   ]
  },
  {
   "cell_type": "code",
   "execution_count": 10,
   "id": "e0c15a83",
   "metadata": {
    "colab": {
     "base_uri": "https://localhost:8080/"
    },
    "id": "e0c15a83",
    "outputId": "d3fb3832-0559-4a65-cc0a-52bb79afec58"
   },
   "outputs": [
    {
     "data": {
      "text/plain": [
       "sentiment    0\n",
       "message      0\n",
       "dtype: int64"
      ]
     },
     "execution_count": 10,
     "metadata": {},
     "output_type": "execute_result"
    }
   ],
   "source": [
    "#see if there are any nulls\n",
    "df.isna().sum()"
   ]
  },
  {
   "cell_type": "code",
   "execution_count": 11,
   "id": "d67fbcf1",
   "metadata": {},
   "outputs": [
    {
     "name": "stdout",
     "output_type": "stream",
     "text": [
      "<class 'pandas.core.frame.DataFrame'>\n",
      "Int64Index: 10546 entries, 169760 to 470892\n",
      "Data columns (total 1 columns):\n",
      " #   Column   Non-Null Count  Dtype \n",
      "---  ------   --------------  ----- \n",
      " 0   message  10546 non-null  object\n",
      "dtypes: object(1)\n",
      "memory usage: 164.8+ KB\n"
     ]
    }
   ],
   "source": [
    "test_df.info()"
   ]
  },
  {
   "cell_type": "code",
   "execution_count": 12,
   "id": "3b72bdc2",
   "metadata": {},
   "outputs": [
    {
     "data": {
      "text/plain": [
       "message    0\n",
       "dtype: int64"
      ]
     },
     "execution_count": 12,
     "metadata": {},
     "output_type": "execute_result"
    }
   ],
   "source": [
    "test_df.isna().sum()"
   ]
  },
  {
   "cell_type": "markdown",
   "id": "8c2a0b01",
   "metadata": {},
   "source": [
    "The main information arising from this output is that there are fortunately no missing data in both sets including the training and the test samples, counted as null values."
   ]
  },
  {
   "cell_type": "markdown",
   "id": "e5b59c89",
   "metadata": {},
   "source": [
    "The next thing we can do here is to view the amount of tweet messages allocated to each sentiment using a gradient table"
   ]
  },
  {
   "cell_type": "code",
   "execution_count": 13,
   "id": "8cb0cdd7",
   "metadata": {
    "scrolled": true
   },
   "outputs": [
    {
     "data": {
      "text/html": [
       "<style type=\"text/css\">\n",
       "#T_02613_row0_col0 {\n",
       "  background-color: #00aaaa;\n",
       "  color: #f1f1f1;\n",
       "}\n",
       "#T_02613_row0_col1, #T_02613_row1_col0 {\n",
       "  background-color: #00ff80;\n",
       "  color: #000000;\n",
       "}\n",
       "#T_02613_row1_col1 {\n",
       "  background-color: #0052d6;\n",
       "  color: #f1f1f1;\n",
       "}\n",
       "#T_02613_row2_col0 {\n",
       "  background-color: #0055d4;\n",
       "  color: #f1f1f1;\n",
       "}\n",
       "#T_02613_row2_col1 {\n",
       "  background-color: #0025ec;\n",
       "  color: #f1f1f1;\n",
       "}\n",
       "#T_02613_row3_col0, #T_02613_row3_col1 {\n",
       "  background-color: #0000ff;\n",
       "  color: #f1f1f1;\n",
       "}\n",
       "</style>\n",
       "<table id=\"T_02613_\">\n",
       "  <thead>\n",
       "    <tr>\n",
       "      <th class=\"blank level0\" >&nbsp;</th>\n",
       "      <th class=\"col_heading level0 col0\" >sentiment</th>\n",
       "      <th class=\"col_heading level0 col1\" >message</th>\n",
       "    </tr>\n",
       "  </thead>\n",
       "  <tbody>\n",
       "    <tr>\n",
       "      <th id=\"T_02613_level0_row0\" class=\"row_heading level0 row0\" >2</th>\n",
       "      <td id=\"T_02613_row0_col0\" class=\"data row0 col0\" >1</td>\n",
       "      <td id=\"T_02613_row0_col1\" class=\"data row0 col1\" >8530</td>\n",
       "    </tr>\n",
       "    <tr>\n",
       "      <th id=\"T_02613_level0_row1\" class=\"row_heading level0 row1\" >3</th>\n",
       "      <td id=\"T_02613_row1_col0\" class=\"data row1 col0\" >2</td>\n",
       "      <td id=\"T_02613_row1_col1\" class=\"data row1 col1\" >3640</td>\n",
       "    </tr>\n",
       "    <tr>\n",
       "      <th id=\"T_02613_level0_row2\" class=\"row_heading level0 row2\" >1</th>\n",
       "      <td id=\"T_02613_row2_col0\" class=\"data row2 col0\" >0</td>\n",
       "      <td id=\"T_02613_row2_col1\" class=\"data row2 col1\" >2353</td>\n",
       "    </tr>\n",
       "    <tr>\n",
       "      <th id=\"T_02613_level0_row3\" class=\"row_heading level0 row3\" >0</th>\n",
       "      <td id=\"T_02613_row3_col0\" class=\"data row3 col0\" >-1</td>\n",
       "      <td id=\"T_02613_row3_col1\" class=\"data row3 col1\" >1296</td>\n",
       "    </tr>\n",
       "  </tbody>\n",
       "</table>\n"
      ],
      "text/plain": [
       "<pandas.io.formats.style.Styler at 0xd41a39eb20>"
      ]
     },
     "execution_count": 13,
     "metadata": {},
     "output_type": "execute_result"
    }
   ],
   "source": [
    "# a table that shows the sentiment types and the total number of tweets allocated to them\n",
    "class_df = df.groupby('sentiment').count()['message'].reset_index().sort_values(by='message',ascending=False)\n",
    "class_df.style.background_gradient(cmap='winter')"
   ]
  },
  {
   "cell_type": "markdown",
   "id": "ff3e6dc1",
   "metadata": {},
   "source": [
    "Hmmm, this is quite interesting, We can see that;\n",
    "\n",
    "Sentiment 2 has a total of `8530 tweets`,\n",
    "Sentiment 1 has a total of `3640 tweets`,\n",
    "Sentiment 0 has a total of `2353 tweets`,\n",
    "Sentimnt -1 has a total of `1296 tweets`.\n",
    "\n",
    "Lets go on to see how else we can view this..."
   ]
  },
  {
   "cell_type": "markdown",
   "id": "48e0fe8f",
   "metadata": {},
   "source": [
    "We will repesent this numbers in a count plot to see how they are graphically distributed"
   ]
  },
  {
   "cell_type": "code",
   "execution_count": 14,
   "id": "56292172",
   "metadata": {
    "colab": {
     "base_uri": "https://localhost:8080/",
     "height": 279
    },
    "id": "56292172",
    "outputId": "471624e1-37b7-4288-f898-44be0746cde5"
   },
   "outputs": [
    {
     "data": {
      "image/png": "[encoded data removed]",
      "text/plain": [
       "<Figure size 432x288 with 1 Axes>"
      ]
     },
     "metadata": {
      "needs_background": "light"
     },
     "output_type": "display_data"
    }
   ],
   "source": [
    "#Find The unique Sentiments and view their counts\n",
    "ax = sns.countplot(x=\"sentiment\", data=df)"
   ]
  },
  {
   "cell_type": "markdown",
   "id": "81cc7000",
   "metadata": {},
   "source": [
    "We can also plot a donut chart to know what percentage of tweets fall under each sentiment."
   ]
  },
  {
   "cell_type": "code",
   "execution_count": 17,
   "id": "0df0a487",
   "metadata": {},
   "outputs": [
    {
     "data": {
      "image/png": "[encoded data removed]",
      "text/plain": [
       "<Figure size 432x288 with 1 Axes>"
      ]
     },
     "metadata": {},
     "output_type": "display_data"
    }
   ],
   "source": [
    "# A donut chart that shows the total percentage of tweet for each sentiment group\n",
    "percent_class=class_df.message\n",
    "labels= class_df.sentiment\n",
    "\n",
    "colors = ['#17C37B','#F92969','#FACA0C']\n",
    "\n",
    "my_pie,_,_ = plt.pie(percent_class,radius = 1.2,labels=labels,colors=colors,autopct=\"%.1f%%\")\n",
    "\n",
    "plt.setp(my_pie, width=1, edgecolor='white') \n",
    "\n",
    "plt.show()"
   ]
  },
  {
   "cell_type": "markdown",
   "id": "7f1b2a07",
   "metadata": {},
   "source": [
    "Seeing the percentage of tweets for each sentiment as shown above, we were then curious, as you should be, to know the number of characters used by users in tweets for each sentiment.\n",
    "An histogram was used in making this graphical repesentation as shown below;"
   ]
  },
  {
   "cell_type": "code",
   "execution_count": 18,
   "id": "707226ee",
   "metadata": {},
   "outputs": [
    {
     "data": {
      "image/png": "[encoded data removed]",
      "text/plain": [
       "<Figure size 720x720 with 4 Axes>"
      ]
     },
     "metadata": {
      "needs_background": "light"
     },
     "output_type": "display_data"
    }
   ],
   "source": [
    "# Here we plot histograms to display the total number of characters in a tweet per sentiment\n",
    "fig,((ax1,ax2),(ax3,ax4))=plt.subplots(2,2,figsize=(10,10))\n",
    "tweet_len=df[df['sentiment']==2]['message'].str.len()\n",
    "ax1.hist(tweet_len,color='red')\n",
    "ax1.set_title('High Belief')\n",
    "tweet_len=df[df['sentiment']==1]['message'].str.len()\n",
    "ax2.hist(tweet_len,color='green')\n",
    "ax2.set_title('Moderate Belief')\n",
    "tweet_len=df[df['sentiment']==0]['message'].str.len()\n",
    "ax3.hist(tweet_len,color='blue')\n",
    "ax3.set_title('Neutral')\n",
    "tweet_len=df[df['sentiment']==-1]['message'].str.len()\n",
    "ax4.hist(tweet_len,color='firebrick')\n",
    "ax4.set_title('Low Belief')\n",
    "fig.suptitle('Characters in tweets')\n",
    "plt.show()"
   ]
  },
  {
   "cell_type": "markdown",
   "id": "64714aa8",
   "metadata": {},
   "source": [
    "Wow, that's a lot of characters used, seems people can't get their hands off their phones, so why don't we chaeck the amount of words used in tweets for each sentiment.\n",
    "We'll represent this graphically using a histogram"
   ]
  },
  {
   "cell_type": "code",
   "execution_count": 19,
   "id": "4ec832c9",
   "metadata": {},
   "outputs": [
    {
     "data": {
      "image/png": "[encoded data removed]",
      "text/plain": [
       "<Figure size 720x720 with 4 Axes>"
      ]
     },
     "metadata": {
      "needs_background": "light"
     },
     "output_type": "display_data"
    }
   ],
   "source": [
    "# Here we plot the total number of words in a tweet per sentiment\n",
    "fig,((ax1,ax2),(ax3,ax4))=plt.subplots(2,2,figsize=(10,10))\n",
    "tweet_len=df[df['sentiment']==2]['message'].str.split().map(lambda x: len(x))\n",
    "ax1.hist(tweet_len,color='red')\n",
    "ax1.set_title('High Belief')\n",
    "tweet_len=df[df['sentiment']==1]['message'].str.split().map(lambda x: len(x))\n",
    "ax2.hist(tweet_len,color='green')\n",
    "ax2.set_title('Moderate Belief')\n",
    "tweet_len=df[df['sentiment']==0]['message'].str.split().map(lambda x: len(x))\n",
    "ax3.hist(tweet_len,color='blue')\n",
    "ax3.set_title('Neutral')\n",
    "tweet_len=df[df['sentiment']==-1]['message'].str.split().map(lambda x: len(x))\n",
    "ax4.hist(tweet_len,color='firebrick')\n",
    "ax4.set_title('Low Belief')\n",
    "fig.suptitle('Words in a tweet')\n",
    "plt.show()"
   ]
  },
  {
   "cell_type": "markdown",
   "id": "1968c768",
   "metadata": {},
   "source": [
    "Hmmmm, this looks interesting, now i wonder how many average words there could be for each tweet per sentiment, let's check that out shall we?"
   ]
  },
  {
   "cell_type": "code",
   "execution_count": 20,
   "id": "6b16a7d8",
   "metadata": {},
   "outputs": [
    {
     "data": {
      "text/plain": [
       "Text(0.5, 0.98, 'Average word length in each tweet')"
      ]
     },
     "execution_count": 20,
     "metadata": {},
     "output_type": "execute_result"
    },
    {
     "data": {
      "image/png": "[encoded data removed]",
      "text/plain": [
       "<Figure size 864x864 with 4 Axes>"
      ]
     },
     "metadata": {
      "needs_background": "light"
     },
     "output_type": "display_data"
    }
   ],
   "source": [
    "# Here we print the average tweet lenght per sentiment\n",
    "fig,((ax1,ax2), (ax3,ax4))=plt.subplots(2,2,figsize=(12,12))\n",
    "word=df[df['sentiment']==2]['message'].str.split().apply(lambda x : [len(i) for i in x])\n",
    "sns.histplot(word.map(lambda x: np.mean(x)),ax=ax1,color='red')\n",
    "ax1.set_title('High Belief')\n",
    "word=df[df['sentiment']==1]['message'].str.split().apply(lambda x : [len(i) for i in x])\n",
    "sns.histplot(word.map(lambda x: np.mean(x)),ax=ax2,color='red')\n",
    "ax2.set_title('Moderate Belief')\n",
    "word=df[df['sentiment']==0]['message'].str.split().apply(lambda x : [len(i) for i in x])\n",
    "sns.histplot(word.map(lambda x: np.mean(x)),ax=ax3,color='red')\n",
    "ax3.set_title('Neutral Belief')\n",
    "word=df[df['sentiment']==-1]['message'].str.split().apply(lambda x : [len(i) for i in x])\n",
    "sns.histplot(word.map(lambda x: np.mean(x)),ax=ax4,color='red')\n",
    "ax4.set_title('Low Belief')\n",
    "fig.suptitle('Average word length in each tweet')"
   ]
  },
  {
   "cell_type": "markdown",
   "id": "60aecab6",
   "metadata": {
    "id": "60aecab6"
   },
   "source": [
    "<a id=\"four\"></a>\n",
    "## 4. Data Pre-processing\n",
    "<a class=\"anchor\" id=\"1.1\"></a>\n",
    "<a href=#cont>Back to Table of Contents</a>\n",
    "\n",
    "---\n",
    "    \n",
    "| ⚡ Description: Data engineering ⚡ |\n",
    "| :--------------------------- |\n",
    "| In this section, the team will restructure the data for the project purpose... |\n",
    "\n",
    "---"
   ]
  },
  {
   "cell_type": "markdown",
   "id": "e4b67a70",
   "metadata": {},
   "source": [
    "#### Pre-processing on the Train data"
   ]
  },
  {
   "cell_type": "markdown",
   "id": "c2a487e3",
   "metadata": {
    "id": "c2a487e3"
   },
   "source": [
    "Data preprocessing is one of the critical steps in any machine learning project. It includes cleaning and formatting the data before feeding into a machine learning algorithm. For NLP, the preprocessing steps are comprised of the following tasks:\n",
    "\n",
    "Tokenizing the string\n",
    "Lowercasing\n",
    "Removing stop words and punctuation\n",
    "Stemming"
   ]
  },
  {
   "cell_type": "markdown",
   "id": "27e8fd67",
   "metadata": {
    "id": "27e8fd67"
   },
   "source": [
    "#### Remove hyperlinks, Twitter marks, and emojis"
   ]
  },
  {
   "cell_type": "markdown",
   "id": "41207654",
   "metadata": {
    "id": "41207654"
   },
   "source": [
    "We observe that the tweet dataset are two list of strings. The individual s trings contains tweeter handles, punctuations, emoticons, urls etc. We need to do some good preprocessing to work with them. Just before that, let's check their comparative lengths"
   ]
  },
  {
   "cell_type": "code",
   "execution_count": 21,
   "id": "f2749139",
   "metadata": {
    "id": "f2749139"
   },
   "outputs": [],
   "source": [
    "# function to strip emojis from the tweets\n",
    "#Ref: https://www.kaggle.com/code/eliasdabbas/how-to-create-a-python-regex-to-extract-emoji/notebook\n",
    "# Ref: https://gist.github.com/Alex-Just/e86110836f3f93fe7932290526529cd1\n",
    "# Ref: https://gist.github.com/Alex-Just/e86110836f3f93fe7932290526529cd1#gistcomment-3208085\n",
    "# Ref: https://en.wikipedia.org/wiki/Unicode_block\n",
    "\n",
    "def remove_emoji(text):\n",
    "    EMOJI_PATTERN = re.compile(\n",
    "        \"([\"\n",
    "        \"\\U0001F1E0-\\U0001F1FF\"  # flags (iOS)\n",
    "        \"\\U0001F300-\\U0001F5FF\"  # symbols & pictographs\n",
    "        \"\\U0001F600-\\U0001F64F\"  # emoticons\n",
    "        \"\\U0001F680-\\U0001F6FF\"  # transport & map symbols\n",
    "        \"\\U0001F700-\\U0001F77F\"  # alchemical symbols\n",
    "        \"\\U0001F780-\\U0001F7FF\"  # Geometric Shapes Extended\n",
    "        \"\\U0001F800-\\U0001F8FF\"  # Supplemental Arrows-C\n",
    "        \"\\U0001F900-\\U0001F9FF\"  # Supplemental Symbols and Pictographs\n",
    "        \"\\U0001FA00-\\U0001FA6F\"  # Chess Symbols\n",
    "        \"\\U0001FA70-\\U0001FAFF\"  # Symbols and Pictographs Extended-A\n",
    "        \"\\U00002702-\\U000027B0\"  # Dingbats\n",
    "        \"\\U000024C2-\\U0001F251\"\n",
    "        \"])\"\n",
    "    )\n",
    "    text = re.sub(EMOJI_PATTERN,  '', text)\n",
    "    return text"
   ]
  },
  {
   "cell_type": "code",
   "execution_count": 22,
   "id": "d6f7ef0d",
   "metadata": {
    "id": "d6f7ef0d"
   },
   "outputs": [],
   "source": [
    "def tweet_preprocessor(tweet):\n",
    "    # remove the old style retweet text \"RT\"\n",
    "    tweet_clean = re.sub(r'^RT[\\s]+', '', tweet)\n",
    "\n",
    "    # remove hashtags. We have to be careful here not to remove \n",
    "    # the whole hashtag because text of hashtags contains huge information. \n",
    "    # only remove the hash # sign from the word\n",
    "    tweet_clean = re.sub(r'#', '', tweet_clean)\n",
    "\n",
    "    # remove hyperlinks\n",
    "    tweet_clean = re.sub(\n",
    "        r'http[s]?://(?:[A-Za-z]|[0-9]|[$-_@.&+]|[!*\\(\\),]|(?:%[0-9A-Fa-f][0-9A-Fa-f]))+'\n",
    "        ,'',\n",
    "        tweet_clean)\n",
    "\n",
    "    # remove single numeric terms in the tweet. \n",
    "    tweet_clean = re.sub(r'\\s[0-9]+\\s', '', tweet_clean)\n",
    "\n",
    "    # remove emojis from in the tweet\n",
    "    tweet_clean = remove_emoji(tweet_clean)\n",
    "\n",
    "    # remove punctions from the tweet\n",
    "    tweet_clean = ''.join([l for l in tweet_clean if l not in string.punctuation])\n",
    "\n",
    "    # convert tweet to lowercase and return it\n",
    "    tweet_clean = tweet_clean.lower()\n",
    "    \n",
    "    # tokenize the tweet\n",
    "    tokenizer = TweetTokenizer() #Instantiate the tokenizer class\n",
    "    tweet_tokens = tokenizer.tokenize(tweet_clean)\n",
    "    \n",
    "    # remove stop words\n",
    "    stopwords_english = stopwords.words('english')\n",
    "    tweet_tokens_without_stopwords = [t for t in tweet_tokens if t not in stopwords_english]\n",
    "    \n",
    "    # stem the tweet\n",
    "    #stemmer = PorterStemmer()\n",
    "    #tweet_stems = ' '.join([stemmer.stem(t) for t in tweet_tokens])\n",
    "    \n",
    "    # stem the tweet\n",
    "    lemma = WordNetLemmatizer()\n",
    "    tweet_stems = ' '.join([lemma.lemmatize(t) for t in tweet_tokens])\n",
    "    \n",
    "    return tweet_stems"
   ]
  },
  {
   "cell_type": "code",
   "execution_count": 23,
   "id": "ede02688",
   "metadata": {
    "id": "ede02688"
   },
   "outputs": [],
   "source": [
    "#Get the labels and targets\n",
    "X = df['message']\n",
    "y = df['sentiment']"
   ]
  },
  {
   "cell_type": "code",
   "execution_count": 24,
   "id": "fa48d642",
   "metadata": {
    "id": "fa48d642"
   },
   "outputs": [],
   "source": [
    "vectorizer = CountVectorizer( # Instantiate the object\n",
    "    preprocessor=tweet_preprocessor,\n",
    "    ngram_range=(1,2) # with ngram_range of (1,2) for bag of words\n",
    ") \n",
    "vectorizer.fit(X) #build vocabulary for training\n",
    "X_tokenized = vectorizer.transform(X) #encode the text data \n",
    "\n",
    "# scale the encoded text data \n",
    "scaler = MaxAbsScaler() # Instantiate the object\n",
    "X_scaled = scaler.fit_transform(X_tokenized)"
   ]
  },
  {
   "cell_type": "markdown",
   "id": "3de0ebd3",
   "metadata": {
    "id": "3de0ebd3"
   },
   "source": [
    "#### Resampling Data"
   ]
  },
  {
   "cell_type": "markdown",
   "id": "40456f17",
   "metadata": {
    "id": "40456f17"
   },
   "source": [
    "<a id=\"five\"></a>\n",
    "## 5. Model Building\n",
    "<a class=\"anchor\" id=\"1.1\"></a>\n",
    "<a href=#cont>Back to Table of Contents</a>\n",
    "\n",
    "---\n",
    "    \n",
    "| ⚡ Description: Modelling ⚡ |\n",
    "| :--------------------------- |\n",
    "| In this section,the team would design models for the classification task. |\n",
    "\n",
    "---"
   ]
  },
  {
   "cell_type": "markdown",
   "id": "699e5997",
   "metadata": {},
   "source": [
    "We split our train data into test and train splits using the scaled values for the newly selected features."
   ]
  },
  {
   "cell_type": "code",
   "execution_count": 26,
   "id": "60014960",
   "metadata": {
    "id": "60014960"
   },
   "outputs": [],
   "source": [
    "#Split the labels and target into training and testing sets\n",
    "X_train, X_test, y_train, y_test = train_test_split(X_scaled, y, test_size=0.3)"
   ]
  },
  {
   "cell_type": "markdown",
   "id": "fe5ff247",
   "metadata": {},
   "source": [
    "So we have decided to try out two classification models for this task; `LogisticRegression` and `SVM`.\n",
    "We'll then go ahead to fit them into our training sets so the modeling process can kick off!"
   ]
  },
  {
   "cell_type": "code",
   "execution_count": 27,
   "id": "64232863",
   "metadata": {
    "colab": {
     "base_uri": "https://localhost:8080/"
    },
    "id": "64232863",
    "outputId": "4567f3ca-188c-4a43-8a36-e22a292a1fab"
   },
   "outputs": [
    {
     "data": {
      "text/plain": [
       "LogisticRegression(multi_class='ovr')"
      ]
     },
     "execution_count": 27,
     "metadata": {},
     "output_type": "execute_result"
    }
   ],
   "source": [
    "log_clf = LogisticRegression(multi_class='ovr') #Instantiate the model object\n",
    "log_clf.fit(X_train, y_train) # train the model"
   ]
  },
  {
   "cell_type": "code",
   "execution_count": 28,
   "id": "36fedc7d",
   "metadata": {
    "colab": {
     "base_uri": "https://localhost:8080/"
    },
    "id": "36fedc7d",
    "outputId": "82ebfd1f-787b-40c1-9011-e98149baefc7"
   },
   "outputs": [
    {
     "data": {
      "text/plain": [
       "SVC(gamma='auto')"
      ]
     },
     "execution_count": 28,
     "metadata": {},
     "output_type": "execute_result"
    }
   ],
   "source": [
    "svm_clf = SVC(gamma='auto') #Instantiate the model object\n",
    "svm_clf.fit(X_train, y_train) # train the model"
   ]
  },
  {
   "cell_type": "markdown",
   "id": "253b03e0",
   "metadata": {
    "id": "253b03e0"
   },
   "source": [
    "## HYPER-PARAMETER TUNING"
   ]
  },
  {
   "cell_type": "code",
   "execution_count": null,
   "id": "pKB13uQ6OXTg",
   "metadata": {
    "id": "pKB13uQ6OXTg"
   },
   "outputs": [],
   "source": []
  },
  {
   "cell_type": "markdown",
   "id": "29bf9df0",
   "metadata": {
    "id": "29bf9df0"
   },
   "source": [
    "<a id=\"six\"></a>\n",
    "## 6. Model Performance\n",
    "<a class=\"anchor\" id=\"1.1\"></a>\n",
    "<a href=#cont>Back to Table of Contents</a>\n",
    "\n",
    "---\n",
    "    \n",
    "| ⚡ Description: Model performance ⚡ |\n",
    "| :--------------------------- |\n",
    "| In this section, we will compare the relative performance of the various trained ML models on a holdout dataset and comment on what model is the best and why. |\n",
    "\n",
    "---"
   ]
  },
  {
   "cell_type": "code",
   "execution_count": 29,
   "id": "d54d41d5",
   "metadata": {
    "colab": {
     "base_uri": "https://localhost:8080/"
    },
    "id": "d54d41d5",
    "outputId": "55046a96-15e4-4a7d-d33c-ceebd028c1ae"
   },
   "outputs": [
    {
     "name": "stdout",
     "output_type": "stream",
     "text": [
      "Logistic f_score:  0.7431521281078803\n",
      "SVM f_score:  0.5444584913611462\n"
     ]
    }
   ],
   "source": [
    "log_score = log_clf.score(X_test, y_test)\n",
    "print('Logistic f_score: ', log_score)\n",
    "svm_score = svm_clf.score(X_test, y_test)\n",
    "print('SVM f_score: ', svm_score)"
   ]
  },
  {
   "cell_type": "code",
   "execution_count": 30,
   "id": "abff9d9e",
   "metadata": {
    "colab": {
     "base_uri": "https://localhost:8080/"
    },
    "id": "abff9d9e",
    "outputId": "29b44467-aa53-48ec-c83d-7ee68b66e8da"
   },
   "outputs": [
    {
     "name": "stdout",
     "output_type": "stream",
     "text": [
      "Logistic Model accurancy:  0.7431521281078803\n",
      "Logistic Model f1 Score:  0.7259788630690278\n",
      "SVM Model accurancy:  0.5444584913611462\n",
      "SVM Model f1 Score:  0.3838692337454848\n"
     ]
    }
   ],
   "source": [
    "y_pred_log = log_clf.predict(X_test) # predict the target for the y_test\n",
    "y_pred_svm = svm_clf.predict(X_test) # predict the target for the y_test\n",
    "\n",
    "# find the accurancy of the model\n",
    "print('Logistic Model accurancy: ', accuracy_score(y_test, y_pred_log))\n",
    "print('Logistic Model f1 Score: ', f1_score(y_test, y_pred_log, average='weighted'))\n",
    "\n",
    "# find the accurancy of the model\n",
    "print('SVM Model accurancy: ', accuracy_score(y_test, y_pred_svm))\n",
    "print('SVM Model f1 Score: ', f1_score(y_test, y_pred_svm, average='weighted'))"
   ]
  },
  {
   "cell_type": "code",
   "execution_count": 31,
   "id": "73f07c33",
   "metadata": {
    "colab": {
     "base_uri": "https://localhost:8080/"
    },
    "id": "73f07c33",
    "outputId": "e041b5d3-a32e-4faf-857e-47dc522a4228",
    "scrolled": true
   },
   "outputs": [
    {
     "name": "stdout",
     "output_type": "stream",
     "text": [
      "Logistic classification Report\n",
      "              precision    recall  f1-score   support\n",
      "\n",
      "          -1       0.89      0.34      0.49       384\n",
      "           0       0.63      0.38      0.48       662\n",
      "           1       0.75      0.89      0.81      2584\n",
      "           2       0.75      0.76      0.75      1116\n",
      "\n",
      "    accuracy                           0.74      4746\n",
      "   macro avg       0.76      0.59      0.63      4746\n",
      "weighted avg       0.74      0.74      0.73      4746\n",
      "\n",
      "SVM classification Report\n",
      "              precision    recall  f1-score   support\n",
      "\n",
      "          -1       0.00      0.00      0.00       384\n",
      "           0       0.00      0.00      0.00       662\n",
      "           1       0.54      1.00      0.71      2584\n",
      "           2       0.00      0.00      0.00      1116\n",
      "\n",
      "    accuracy                           0.54      4746\n",
      "   macro avg       0.14      0.25      0.18      4746\n",
      "weighted avg       0.30      0.54      0.38      4746\n",
      "\n"
     ]
    },
    {
     "name": "stderr",
     "output_type": "stream",
     "text": [
      "C:\\ProgramData\\Anaconda3\\lib\\site-packages\\sklearn\\metrics\\_classification.py:1248: UndefinedMetricWarning: Precision and F-score are ill-defined and being set to 0.0 in labels with no predicted samples. Use `zero_division` parameter to control this behavior.\n",
      "  _warn_prf(average, modifier, msg_start, len(result))\n",
      "C:\\ProgramData\\Anaconda3\\lib\\site-packages\\sklearn\\metrics\\_classification.py:1248: UndefinedMetricWarning: Precision and F-score are ill-defined and being set to 0.0 in labels with no predicted samples. Use `zero_division` parameter to control this behavior.\n",
      "  _warn_prf(average, modifier, msg_start, len(result))\n",
      "C:\\ProgramData\\Anaconda3\\lib\\site-packages\\sklearn\\metrics\\_classification.py:1248: UndefinedMetricWarning: Precision and F-score are ill-defined and being set to 0.0 in labels with no predicted samples. Use `zero_division` parameter to control this behavior.\n",
      "  _warn_prf(average, modifier, msg_start, len(result))\n"
     ]
    }
   ],
   "source": [
    "# Find the classification matrix to the model's metrics\n",
    "print('Logistic classification Report')\n",
    "print(classification_report(y_test, y_pred_log))\n",
    "print('SVM classification Report')\n",
    "print(classification_report(y_test, y_pred_svm))"
   ]
  },
  {
   "cell_type": "code",
   "execution_count": 32,
   "id": "19858a93",
   "metadata": {
    "colab": {
     "base_uri": "https://localhost:8080/",
     "height": 337
    },
    "id": "19858a93",
    "outputId": "bbe8b4a0-80ae-45f1-c521-b66b79cf9369",
    "scrolled": true
   },
   "outputs": [
    {
     "data": {
      "image/png": "[encoded data removed]",
      "text/plain": [
       "<Figure size 432x288 with 2 Axes>"
      ]
     },
     "metadata": {
      "needs_background": "light"
     },
     "output_type": "display_data"
    }
   ],
   "source": [
    "cf_matrix = confusion_matrix(y_test, y_pred_log)\n",
    "\n",
    "ax = sns.heatmap(cf_matrix, annot=True, cmap='Oranges')\n",
    "\n",
    "ax.set_title('Seaborn Confusion Matrix with labels\\n\\n');\n",
    "ax.set_xlabel('\\nPredicted Values')\n",
    "ax.set_ylabel('Actual Values ');\n",
    "\n",
    "## Ticket labels - List must be in alphabetical order\n",
    "#ax.xaxis.set_ticklabels(['Setosa','Versicolor', 'Virginia'])\n",
    "#ax.yaxis.set_ticklabels(['Setosa','Versicolor', 'Virginia'])\n",
    "\n",
    "## Display the visualization of the Confusion Matrix.\n",
    "plt.show()"
   ]
  },
  {
   "cell_type": "markdown",
   "id": "e89017fc",
   "metadata": {},
   "source": [
    "<a id=\"seven\"></a>\n",
    "## 7. Model Explanations\n",
    "<a class=\"anchor\" id=\"1.1\"></a>\n",
    "<a href=#cont>Back to Table of Contents</a>\n",
    "\n",
    "---\n",
    "    \n",
    "| ⚡ Description: Model explanation ⚡ |\n",
    "| :--------------------------- |\n",
    "| In this section, you are required to discuss how the best performing model works in a simple way so that both technical and non-technical stakeholders can grasp the intuition behind the model's inner workings. |\n",
    "\n",
    "---"
   ]
  },
  {
   "cell_type": "markdown",
   "id": "fed36d14",
   "metadata": {
    "id": "fed36d14"
   },
   "source": [
    "## KAGGLE SUBMISSION"
   ]
  },
  {
   "cell_type": "code",
   "execution_count": 33,
   "id": "11be979a",
   "metadata": {
    "id": "11be979a"
   },
   "outputs": [],
   "source": [
    "test_tokenized = vectorizer.transform(test_df['message'])"
   ]
  },
  {
   "cell_type": "code",
   "execution_count": 34,
   "id": "2T0w0WAXOwMW",
   "metadata": {
    "id": "2T0w0WAXOwMW"
   },
   "outputs": [],
   "source": [
    "test_scaled = scaler.fit_transform(test_tokenized)"
   ]
  },
  {
   "cell_type": "code",
   "execution_count": 35,
   "id": "db008038",
   "metadata": {
    "id": "db008038"
   },
   "outputs": [],
   "source": [
    "test_pred = log_clf.predict(test_scaled)"
   ]
  },
  {
   "cell_type": "code",
   "execution_count": 37,
   "id": "e6d6e81f",
   "metadata": {
    "id": "e6d6e81f"
   },
   "outputs": [],
   "source": [
    "results_df = pd.DataFrame(test_pred.tolist(), index = test_df.index, columns=['sentiment'])"
   ]
  },
  {
   "cell_type": "code",
   "execution_count": 38,
   "id": "19c97bc3",
   "metadata": {},
   "outputs": [
    {
     "data": {
      "text/html": [
       "<div>\n",
       "<style scoped>\n",
       "    .dataframe tbody tr th:only-of-type {\n",
       "        vertical-align: middle;\n",
       "    }\n",
       "\n",
       "    .dataframe tbody tr th {\n",
       "        vertical-align: top;\n",
       "    }\n",
       "\n",
       "    .dataframe thead th {\n",
       "        text-align: right;\n",
       "    }\n",
       "</style>\n",
       "<table border=\"1\" class=\"dataframe\">\n",
       "  <thead>\n",
       "    <tr style=\"text-align: right;\">\n",
       "      <th></th>\n",
       "      <th>sentiment</th>\n",
       "    </tr>\n",
       "    <tr>\n",
       "      <th>tweetid</th>\n",
       "      <th></th>\n",
       "    </tr>\n",
       "  </thead>\n",
       "  <tbody>\n",
       "    <tr>\n",
       "      <th>169760</th>\n",
       "      <td>1</td>\n",
       "    </tr>\n",
       "    <tr>\n",
       "      <th>35326</th>\n",
       "      <td>1</td>\n",
       "    </tr>\n",
       "    <tr>\n",
       "      <th>224985</th>\n",
       "      <td>1</td>\n",
       "    </tr>\n",
       "    <tr>\n",
       "      <th>476263</th>\n",
       "      <td>1</td>\n",
       "    </tr>\n",
       "    <tr>\n",
       "      <th>872928</th>\n",
       "      <td>0</td>\n",
       "    </tr>\n",
       "  </tbody>\n",
       "</table>\n",
       "</div>"
      ],
      "text/plain": [
       "         sentiment\n",
       "tweetid           \n",
       "169760           1\n",
       "35326            1\n",
       "224985           1\n",
       "476263           1\n",
       "872928           0"
      ]
     },
     "execution_count": 38,
     "metadata": {},
     "output_type": "execute_result"
    }
   ],
   "source": [
    "results_df.head()"
   ]
  },
  {
   "cell_type": "code",
   "execution_count": 39,
   "id": "c667b24e",
   "metadata": {
    "id": "c667b24e"
   },
   "outputs": [],
   "source": [
    "results_df.to_csv('classification_predict.csv')"
   ]
  },
  {
   "cell_type": "code",
   "execution_count": null,
   "id": "pcBXePkmG1SH",
   "metadata": {
    "id": "pcBXePkmG1SH"
   },
   "outputs": [],
   "source": []
  }
 ],
 "metadata": {
  "colab": {
   "name": "Starter_Notebook.ipynb",
   "provenance": []
  },
  "kernelspec": {
   "display_name": "Python 3 (ipykernel)",
   "language": "python",
   "name": "python3"
  },
  "language_info": {
   "codemirror_mode": {
    "name": "ipython",
    "version": 3
   },
   "file_extension": ".py",
   "mimetype": "text/x-python",
   "name": "python",
   "nbconvert_exporter": "python",
   "pygments_lexer": "ipython3",
   "version": "3.9.7"
  }
 },
 "nbformat": 4,
 "nbformat_minor": 5
}
